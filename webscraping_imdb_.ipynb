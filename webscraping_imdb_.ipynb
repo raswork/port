{
 "cells": [
  {
   "cell_type": "markdown",
   "id": "d37418e2",
   "metadata": {},
   "source": [
    "## Goal-To extract following movie title,name ,rating and the link to open the page and store it in a csv file."
   ]
  },
  {
   "cell_type": "code",
   "execution_count": null,
   "id": "644bcd11",
   "metadata": {},
   "outputs": [],
   "source": [
    "import csv"
   ]
  },
  {
   "cell_type": "code",
   "execution_count": null,
   "id": "48fd60ec",
   "metadata": {},
   "outputs": [],
   "source": [
    "from bs4 import BeautifulSoup\n",
    "import requests\n"
   ]
  },
  {
   "cell_type": "code",
   "execution_count": null,
   "id": "54d73dff",
   "metadata": {},
   "outputs": [],
   "source": [
    "url=\"https://www.imdb.com/chart/top/\"\n",
    "url_chk=requests.get(url).text\n",
    "#to check for error\n",
    "#url_chk.raise_for_status()"
   ]
  },
  {
   "cell_type": "code",
   "execution_count": null,
   "id": "52b97e66",
   "metadata": {},
   "outputs": [],
   "source": [
    "soup=BeautifulSoup(url_chk,\"html5lib\")"
   ]
  },
  {
   "cell_type": "code",
   "execution_count": null,
   "id": "a283741a",
   "metadata": {},
   "outputs": [],
   "source": [
    "soup.title.text\n",
    "soup.title.name\n",
    "soup.title.string"
   ]
  },
  {
   "cell_type": "code",
   "execution_count": null,
   "id": "fdd66a26",
   "metadata": {},
   "outputs": [],
   "source": [
    "#extracting the 1st movie title\n",
    "try:\n",
    "    k=soup.find(class_=\"titleColumn\")\n",
    "    print(k.a.text)\n",
    "    #print(k.parent.name)\n",
    "except Exception as e:\n",
    "    print(e)"
   ]
  },
  {
   "cell_type": "code",
   "execution_count": null,
   "id": "8e9a567f",
   "metadata": {},
   "outputs": [],
   "source": [
    "#extracting all the movies title \n",
    "try:\n",
    "    n=soup.find_all(class_=\"titleColumn\")\n",
    "    for nme in n:\n",
    "        movienme=nme.a.text#a.string(same result)\n",
    "        print(movienme)\n",
    "except Exception as e:\n",
    "    print(e)"
   ]
  },
  {
   "cell_type": "code",
   "execution_count": null,
   "id": "27b940ae",
   "metadata": {},
   "outputs": [],
   "source": [
    "#getting all the ratings\n",
    "try:\n",
    "    r=soup.find_all(class_=\"ratingColumn imdbRating\")\n",
    "    for rtng in r:\n",
    "        movieratng=rtng.strong.text#a.string(same result)\n",
    "        print(movieratng)\n",
    "except Exception as e:\n",
    "    print(e)"
   ]
  },
  {
   "cell_type": "code",
   "execution_count": null,
   "id": "5d493873",
   "metadata": {},
   "outputs": [],
   "source": [
    "#getting the links\n",
    "try:\n",
    "    for link in soup.find_all(class_=\"titleColumn\"):\n",
    "        l=(link.a.get(\"href\"))\n",
    "        print(l)\n",
    "        \n",
    "except Exception as e:\n",
    "    print(e)"
   ]
  },
  {
   "cell_type": "code",
   "execution_count": null,
   "id": "1cd128a8",
   "metadata": {},
   "outputs": [],
   "source": [
    "#done sucessfully extracted the data into csv file.Yippe\n",
    "try:\n",
    "    csv_file=open('imdbwescraping.csv','w')\n",
    "    csv_writer=csv.writer(csv_file)\n",
    "    csv_writer.writerow(['Title','Rating','Link'])\n",
    "    k = soup.find('tbody',class_='lister-list')\n",
    "    for item in k.find_all('tr'):\n",
    "        title=item.find(\"td\",class_='titleColumn').a.text.strip()\n",
    "        rating=item.find(\"td\",'srtong title',class_=\"ratingColumn imdbRating\").text.strip()\n",
    "        link=\"https://www.imdb.com\"+item.a.get('href').rstrip('/')\n",
    "        csv_writer.writerow([title,rating,link])\n",
    "    csv_file.close()\n",
    "        \n",
    "        \n",
    "except Exception as e:\n",
    "    print(e)    "
   ]
  },
  {
   "cell_type": "code",
   "execution_count": null,
   "id": "9dca38b2",
   "metadata": {},
   "outputs": [],
   "source": [
    "import pandas as pd\n",
    "df=pd.read_csv('imdbwescraping.csv')\n",
    "df.columns=[x.lower() for x in df.columns]#converting all col into lower case.\n",
    "df.index=df.index+1\n",
    "df['rank']=df.index"
   ]
  },
  {
   "cell_type": "code",
   "execution_count": null,
   "id": "baa53261",
   "metadata": {},
   "outputs": [],
   "source": [
    "df.insert(0,'position',df.index)\n",
    "df"
   ]
  }
 ],
 "metadata": {
  "kernelspec": {
   "display_name": "Python 3 (ipykernel)",
   "language": "python",
   "name": "python3"
  },
  "language_info": {
   "codemirror_mode": {
    "name": "ipython",
    "version": 3
   },
   "file_extension": ".py",
   "mimetype": "text/x-python",
   "name": "python",
   "nbconvert_exporter": "python",
   "pygments_lexer": "ipython3",
   "version": "3.9.5"
  }
 },
 "nbformat": 4,
 "nbformat_minor": 5
}
