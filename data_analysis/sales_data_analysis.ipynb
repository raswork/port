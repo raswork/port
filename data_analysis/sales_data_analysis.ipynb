{
 "cells": [
  {
   "cell_type": "markdown",
   "id": "932a5a1a",
   "metadata": {},
   "source": [
    "# Motive-To analyze customer buying behaviour mainly the following questions\n",
    "## * Month wise sales and in which month the sales was highest.\n",
    "## * city wise sales\n",
    "## * product wise sales and products which are brought togather.\n",
    "## * best time for marketing advertisement based on sales."
   ]
  },
  {
   "cell_type": "markdown",
   "id": "1fe859ff",
   "metadata": {},
   "source": [
    "### Importing all dependcies"
   ]
  },
  {
   "cell_type": "code",
   "execution_count": 1,
   "id": "3c044396",
   "metadata": {},
   "outputs": [],
   "source": [
    "import pandas as pd,os"
   ]
  },
  {
   "cell_type": "code",
   "execution_count": 2,
   "id": "c738a4e9",
   "metadata": {},
   "outputs": [],
   "source": [
    "import numpy as np,seaborn as sns"
   ]
  },
  {
   "cell_type": "markdown",
   "id": "15023ab7",
   "metadata": {},
   "source": [
    "### First task is to convert all months data into one csv for analysis .\n",
    "#df=pd.read_csv('E:\\pandas practice data\\Pandas-Data-Science-Tasks-master\\SalesAnalysis\\Sales_Data\\Sales_April_2019.csv')\n",
    "files=[file for file in os.listdir('E:\\pandas practice data\\Pandas-Data-Science-Tasks-master\\SalesAnalysis\\Sales_Data')]\n",
    "\n",
    "all_months_data=pd.DataFrame()\n",
    "for file in files:\n",
    "    df=pd.read_csv('E:\\\\pandas practice data\\\\Pandas-Data-Science-Tasks-master\\\\SalesAnalysis\\\\Sales_Data\\\\'+file)\n",
    "    all_months_data=pd.concat([all_months_data,df])"
   ]
  },
  {
   "cell_type": "markdown",
   "id": "33b48e6c",
   "metadata": {},
   "source": [
    "all_months_data.to_csv('all_month_data.csv',index=False)"
   ]
  },
  {
   "cell_type": "code",
   "execution_count": 4,
   "id": "f76d1919",
   "metadata": {},
   "outputs": [],
   "source": [
    "df=pd.read_csv(r'E:\\practice_py files\\practice data\\all_month_sales_data.csv',parse_dates=['Order Date'])"
   ]
  },
  {
   "cell_type": "markdown",
   "id": "5475063c",
   "metadata": {},
   "source": [
    "## data exploration"
   ]
  },
  {
   "cell_type": "code",
   "execution_count": 17,
   "id": "e6b2d550",
   "metadata": {},
   "outputs": [
    {
     "data": {
      "text/plain": [
       "(186850, 6)"
      ]
     },
     "execution_count": 17,
     "metadata": {},
     "output_type": "execute_result"
    }
   ],
   "source": [
    "df.shape"
   ]
  },
  {
   "cell_type": "code",
   "execution_count": 18,
   "id": "5ae219a0",
   "metadata": {},
   "outputs": [
    {
     "data": {
      "text/plain": [
       "1121100"
      ]
     },
     "execution_count": 18,
     "metadata": {},
     "output_type": "execute_result"
    }
   ],
   "source": [
    "df.size"
   ]
  },
  {
   "cell_type": "code",
   "execution_count": 7,
   "id": "46d2f50a",
   "metadata": {},
   "outputs": [
    {
     "name": "stdout",
     "output_type": "stream",
     "text": [
      "<class 'pandas.core.frame.DataFrame'>\n",
      "RangeIndex: 186850 entries, 0 to 186849\n",
      "Data columns (total 6 columns):\n",
      " #   Column            Non-Null Count   Dtype \n",
      "---  ------            --------------   ----- \n",
      " 0   Order ID          186305 non-null  object\n",
      " 1   Product           186305 non-null  object\n",
      " 2   Quantity Ordered  186305 non-null  object\n",
      " 3   Price Each        186305 non-null  object\n",
      " 4   Order Date        186305 non-null  object\n",
      " 5   Purchase Address  186305 non-null  object\n",
      "dtypes: object(6)\n",
      "memory usage: 8.6+ MB\n"
     ]
    }
   ],
   "source": [
    "df.info()"
   ]
  },
  {
   "cell_type": "code",
   "execution_count": 12,
   "id": "0efe3b67",
   "metadata": {},
   "outputs": [
    {
     "data": {
      "text/plain": [
       "1162"
      ]
     },
     "execution_count": 12,
     "metadata": {},
     "output_type": "execute_result"
    }
   ],
   "source": [
    "df.duplicated().sum()"
   ]
  },
  {
   "cell_type": "code",
   "execution_count": 14,
   "id": "a4ca8aaa",
   "metadata": {},
   "outputs": [
    {
     "data": {
      "text/plain": [
       "Order ID            545\n",
       "Product             545\n",
       "Quantity Ordered    545\n",
       "Price Each          545\n",
       "Order Date          545\n",
       "Purchase Address    545\n",
       "dtype: int64"
      ]
     },
     "execution_count": 14,
     "metadata": {},
     "output_type": "execute_result"
    }
   ],
   "source": [
    "df.isna().sum()"
   ]
  },
  {
   "cell_type": "code",
   "execution_count": 16,
   "id": "f182f822",
   "metadata": {},
   "outputs": [
    {
     "data": {
      "text/html": [
       "<div>\n",
       "<style scoped>\n",
       "    .dataframe tbody tr th:only-of-type {\n",
       "        vertical-align: middle;\n",
       "    }\n",
       "\n",
       "    .dataframe tbody tr th {\n",
       "        vertical-align: top;\n",
       "    }\n",
       "\n",
       "    .dataframe thead th {\n",
       "        text-align: right;\n",
       "    }\n",
       "</style>\n",
       "<table border=\"1\" class=\"dataframe\">\n",
       "  <thead>\n",
       "    <tr style=\"text-align: right;\">\n",
       "      <th></th>\n",
       "      <th>Order ID</th>\n",
       "      <th>Product</th>\n",
       "      <th>Quantity Ordered</th>\n",
       "      <th>Price Each</th>\n",
       "      <th>Order Date</th>\n",
       "      <th>Purchase Address</th>\n",
       "    </tr>\n",
       "  </thead>\n",
       "  <tbody>\n",
       "    <tr>\n",
       "      <th>count</th>\n",
       "      <td>186305</td>\n",
       "      <td>186305</td>\n",
       "      <td>186305</td>\n",
       "      <td>186305</td>\n",
       "      <td>186305</td>\n",
       "      <td>186305</td>\n",
       "    </tr>\n",
       "    <tr>\n",
       "      <th>unique</th>\n",
       "      <td>178438</td>\n",
       "      <td>20</td>\n",
       "      <td>10</td>\n",
       "      <td>24</td>\n",
       "      <td>142396</td>\n",
       "      <td>140788</td>\n",
       "    </tr>\n",
       "    <tr>\n",
       "      <th>top</th>\n",
       "      <td>Order ID</td>\n",
       "      <td>USB-C Charging Cable</td>\n",
       "      <td>1</td>\n",
       "      <td>11.95</td>\n",
       "      <td>Order Date</td>\n",
       "      <td>Purchase Address</td>\n",
       "    </tr>\n",
       "    <tr>\n",
       "      <th>freq</th>\n",
       "      <td>355</td>\n",
       "      <td>21903</td>\n",
       "      <td>168552</td>\n",
       "      <td>21903</td>\n",
       "      <td>355</td>\n",
       "      <td>355</td>\n",
       "    </tr>\n",
       "  </tbody>\n",
       "</table>\n",
       "</div>"
      ],
      "text/plain": [
       "        Order ID               Product Quantity Ordered Price Each  \\\n",
       "count     186305                186305           186305     186305   \n",
       "unique    178438                    20               10         24   \n",
       "top     Order ID  USB-C Charging Cable                1      11.95   \n",
       "freq         355                 21903           168552      21903   \n",
       "\n",
       "        Order Date  Purchase Address  \n",
       "count       186305            186305  \n",
       "unique      142396            140788  \n",
       "top     Order Date  Purchase Address  \n",
       "freq           355               355  "
      ]
     },
     "execution_count": 16,
     "metadata": {},
     "output_type": "execute_result"
    }
   ],
   "source": [
    "df.describe()"
   ]
  },
  {
   "cell_type": "markdown",
   "id": "8fd1064f",
   "metadata": {},
   "source": [
    "### data cleaning "
   ]
  },
  {
   "cell_type": "code",
   "execution_count": 4,
   "id": "7cf696e9",
   "metadata": {},
   "outputs": [],
   "source": [
    "df.dropna(inplace=True)"
   ]
  },
  {
   "cell_type": "code",
   "execution_count": 102,
   "id": "038591e8",
   "metadata": {},
   "outputs": [],
   "source": [
    "#df1['Date'] = pd.to_datetime(df1['Date'], format='%Y%m%d').dt.strftime('%m/%d/%Y')"
   ]
  },
  {
   "cell_type": "code",
   "execution_count": 106,
   "id": "ffce257e",
   "metadata": {},
   "outputs": [
    {
     "data": {
      "text/plain": [
       "0         04\n",
       "2         04\n",
       "3         04\n",
       "4         04\n",
       "5         04\n",
       "          ..\n",
       "186845    09\n",
       "186846    09\n",
       "186847    09\n",
       "186848    09\n",
       "186849    09\n",
       "Name: Order Date, Length: 186305, dtype: object"
      ]
     },
     "execution_count": 106,
     "metadata": {},
     "output_type": "execute_result"
    }
   ],
   "source": [
    "#or directly from Order Date column\n",
    "#df['Order Date'].str[0:2]"
   ]
  },
  {
   "cell_type": "code",
   "execution_count": 20,
   "id": "5ac4ff80",
   "metadata": {},
   "outputs": [
    {
     "data": {
      "text/plain": [
       "Index(['Order ID', 'Product', 'Quantity Ordered', 'Price Each', 'Order Date',\n",
       "       'Purchase Address'],\n",
       "      dtype='object')"
      ]
     },
     "execution_count": 20,
     "metadata": {},
     "output_type": "execute_result"
    }
   ],
   "source": [
    "df.columns"
   ]
  },
  {
   "cell_type": "code",
   "execution_count": 21,
   "id": "f72aa615",
   "metadata": {},
   "outputs": [],
   "source": [
    "# code to remove the column name in column values\n",
    "for col in df.columns:\n",
    "    df.drop(index=df[df[col]==col].index,inplace=True)"
   ]
  },
  {
   "cell_type": "markdown",
   "id": "9c18e43a",
   "metadata": {},
   "source": [
    "### Q1 What was the best month for sales? and how much was earned that month"
   ]
  },
  {
   "cell_type": "code",
   "execution_count": 7,
   "id": "9ceb3dc0",
   "metadata": {},
   "outputs": [],
   "source": [
    "df['Order Date']=pd.to_datetime(df['Order Date'])"
   ]
  },
  {
   "cell_type": "code",
   "execution_count": 29,
   "id": "3ec0102f",
   "metadata": {},
   "outputs": [],
   "source": [
    "df['month']=df['Order Date'].dt.month_name()"
   ]
  },
  {
   "cell_type": "code",
   "execution_count": 11,
   "id": "8cc5ab7e",
   "metadata": {},
   "outputs": [],
   "source": [
    "df[['Quantity Ordered','Price Each']]=df[['Quantity Ordered','Price Each']].astype('float32')"
   ]
  },
  {
   "cell_type": "code",
   "execution_count": 12,
   "id": "7b3a7692",
   "metadata": {},
   "outputs": [],
   "source": [
    "df['total']=df['Quantity Ordered']*df['Price Each']"
   ]
  },
  {
   "cell_type": "code",
   "execution_count": 86,
   "id": "65defdab",
   "metadata": {},
   "outputs": [
    {
     "data": {
      "text/plain": [
       "month\n",
       "April        3390670.25\n",
       "August       2244467.75\n",
       "December     4613443.50\n",
       "February     2202022.50\n",
       "January      1822256.75\n",
       "July         2647775.75\n",
       "June         2577802.25\n",
       "March        2807100.25\n",
       "May          3152606.75\n",
       "November     3199603.25\n",
       "October      3736726.75\n",
       "September    2097560.00\n",
       "Name: total, dtype: float32"
      ]
     },
     "execution_count": 86,
     "metadata": {},
     "output_type": "execute_result"
    }
   ],
   "source": [
    "df.groupby('month')['total'].sum()#wrong df.groupby('month')['total'].size().index()"
   ]
  },
  {
   "cell_type": "markdown",
   "id": "db4a6d65",
   "metadata": {},
   "source": [
    "###  which city sold the most product"
   ]
  },
  {
   "cell_type": "code",
   "execution_count": 90,
   "id": "249896eb",
   "metadata": {},
   "outputs": [],
   "source": [
    "df['city']=[i[1] for i in df['Purchase Address'].str.split(',')]\n"
   ]
  },
  {
   "cell_type": "code",
   "execution_count": 92,
   "id": "7808cf1e",
   "metadata": {},
   "outputs": [
    {
     "data": {
      "text/plain": [
       "city\n",
       " Atlanta          16602.0\n",
       " Austin           11153.0\n",
       " Boston           22528.0\n",
       " Dallas           16730.0\n",
       " Los Angeles      33289.0\n",
       " New York City    27932.0\n",
       " Portland         14053.0\n",
       " San Francisco    50239.0\n",
       " Seattle          16553.0\n",
       "Name: Quantity Ordered, dtype: float32"
      ]
     },
     "execution_count": 92,
     "metadata": {},
     "output_type": "execute_result"
    }
   ],
   "source": [
    "#no of product sold city wise\n",
    "df.groupby('city')['Quantity Ordered'].sum()"
   ]
  },
  {
   "cell_type": "code",
   "execution_count": 93,
   "id": "a0ee3d5d",
   "metadata": {},
   "outputs": [
    {
     "data": {
      "text/plain": [
       "city\n",
       " Atlanta          2795498.50\n",
       " Austin           1819581.75\n",
       " Boston           3661642.00\n",
       " Dallas           2767975.50\n",
       " Los Angeles      5452571.00\n",
       " New York City    4664317.50\n",
       " Portland         2320490.50\n",
       " San Francisco    8262204.00\n",
       " Seattle          2747755.50\n",
       "Name: total, dtype: float32"
      ]
     },
     "execution_count": 93,
     "metadata": {},
     "output_type": "execute_result"
    }
   ],
   "source": [
    "#total sales city wise\n",
    "df.groupby('city')['total'].sum()"
   ]
  },
  {
   "cell_type": "markdown",
   "id": "aeddda0d",
   "metadata": {},
   "source": [
    "###  What time should we display advertisemens to maximize the likelihood of customer’s buying product?"
   ]
  },
  {
   "cell_type": "code",
   "execution_count": 10,
   "id": "5e929fef",
   "metadata": {},
   "outputs": [],
   "source": [
    "df['time']=df['Order Date'].dt.time"
   ]
  },
  {
   "cell_type": "code",
   "execution_count": 18,
   "id": "791a8bc6",
   "metadata": {},
   "outputs": [
    {
     "data": {
      "text/plain": [
       "time\n",
       "11:58:00    252\n",
       "19:20:00    246\n",
       "19:15:00    243\n",
       "20:13:00    242\n",
       "12:21:00    240\n",
       "13:25:00    240\n",
       "19:01:00    239\n",
       "19:36:00    239\n",
       "19:46:00    239\n",
       "19:48:00    239\n",
       "Name: total, dtype: int64"
      ]
     },
     "execution_count": 18,
     "metadata": {},
     "output_type": "execute_result"
    }
   ],
   "source": [
    "df.groupby('time')['total'].count().nlargest(10)#count the no of rows in each time "
   ]
  },
  {
   "cell_type": "markdown",
   "id": "b2832197",
   "metadata": {},
   "source": [
    "### what product are often sold together?"
   ]
  },
  {
   "cell_type": "code",
   "execution_count": 40,
   "id": "de2975f1",
   "metadata": {},
   "outputs": [
    {
     "data": {
      "text/plain": [
       "Index(['Order ID', 'Product', 'Quantity Ordered', 'Price Each', 'Order Date',\n",
       "       'Purchase Address', 'time', 'total'],\n",
       "      dtype='object')"
      ]
     },
     "execution_count": 40,
     "metadata": {},
     "output_type": "execute_result"
    }
   ],
   "source": [
    "df.columns"
   ]
  },
  {
   "cell_type": "code",
   "execution_count": 70,
   "id": "faa71696",
   "metadata": {},
   "outputs": [],
   "source": [
    "df1=df[df['Order ID'].duplicated(keep=False)]#keeps all duplicated values"
   ]
  },
  {
   "cell_type": "code",
   "execution_count": 79,
   "id": "51c96721",
   "metadata": {},
   "outputs": [
    {
     "name": "stderr",
     "output_type": "stream",
     "text": [
      "C:\\Users\\Acer Lappy\\AppData\\Local\\Temp\\ipykernel_6864\\688105591.py:1: SettingWithCopyWarning: \n",
      "A value is trying to be set on a copy of a slice from a DataFrame.\n",
      "Try using .loc[row_indexer,col_indexer] = value instead\n",
      "\n",
      "See the caveats in the documentation: https://pandas.pydata.org/pandas-docs/stable/user_guide/indexing.html#returning-a-view-versus-a-copy\n",
      "  df1['grouped']=df1.groupby('Order ID')['Product'].transform(lambda x:','.join(x))\n"
     ]
    },
    {
     "data": {
      "text/html": [
       "<div>\n",
       "<style scoped>\n",
       "    .dataframe tbody tr th:only-of-type {\n",
       "        vertical-align: middle;\n",
       "    }\n",
       "\n",
       "    .dataframe tbody tr th {\n",
       "        vertical-align: top;\n",
       "    }\n",
       "\n",
       "    .dataframe thead th {\n",
       "        text-align: right;\n",
       "    }\n",
       "</style>\n",
       "<table border=\"1\" class=\"dataframe\">\n",
       "  <thead>\n",
       "    <tr style=\"text-align: right;\">\n",
       "      <th></th>\n",
       "      <th>Order ID</th>\n",
       "      <th>Product</th>\n",
       "      <th>Quantity Ordered</th>\n",
       "      <th>Price Each</th>\n",
       "      <th>Order Date</th>\n",
       "      <th>Purchase Address</th>\n",
       "      <th>time</th>\n",
       "      <th>total</th>\n",
       "      <th>grouped</th>\n",
       "    </tr>\n",
       "  </thead>\n",
       "  <tbody>\n",
       "    <tr>\n",
       "      <th>3</th>\n",
       "      <td>176560</td>\n",
       "      <td>Google Phone</td>\n",
       "      <td>1.0</td>\n",
       "      <td>600.000000</td>\n",
       "      <td>2019-04-12 14:38:00</td>\n",
       "      <td>669 Spruce St, Los Angeles, CA 90001</td>\n",
       "      <td>14:38:00</td>\n",
       "      <td>600.000000</td>\n",
       "      <td>Google Phone,Wired Headphones</td>\n",
       "    </tr>\n",
       "    <tr>\n",
       "      <th>4</th>\n",
       "      <td>176560</td>\n",
       "      <td>Wired Headphones</td>\n",
       "      <td>1.0</td>\n",
       "      <td>11.990000</td>\n",
       "      <td>2019-04-12 14:38:00</td>\n",
       "      <td>669 Spruce St, Los Angeles, CA 90001</td>\n",
       "      <td>14:38:00</td>\n",
       "      <td>11.990000</td>\n",
       "      <td>Google Phone,Wired Headphones</td>\n",
       "    </tr>\n",
       "    <tr>\n",
       "      <th>18</th>\n",
       "      <td>176574</td>\n",
       "      <td>Google Phone</td>\n",
       "      <td>1.0</td>\n",
       "      <td>600.000000</td>\n",
       "      <td>2019-04-03 19:42:00</td>\n",
       "      <td>20 Hill St, Los Angeles, CA 90001</td>\n",
       "      <td>19:42:00</td>\n",
       "      <td>600.000000</td>\n",
       "      <td>Google Phone,USB-C Charging Cable</td>\n",
       "    </tr>\n",
       "    <tr>\n",
       "      <th>19</th>\n",
       "      <td>176574</td>\n",
       "      <td>USB-C Charging Cable</td>\n",
       "      <td>1.0</td>\n",
       "      <td>11.950000</td>\n",
       "      <td>2019-04-03 19:42:00</td>\n",
       "      <td>20 Hill St, Los Angeles, CA 90001</td>\n",
       "      <td>19:42:00</td>\n",
       "      <td>11.950000</td>\n",
       "      <td>Google Phone,USB-C Charging Cable</td>\n",
       "    </tr>\n",
       "    <tr>\n",
       "      <th>30</th>\n",
       "      <td>176585</td>\n",
       "      <td>Bose SoundSport Headphones</td>\n",
       "      <td>1.0</td>\n",
       "      <td>99.989998</td>\n",
       "      <td>2019-04-07 11:31:00</td>\n",
       "      <td>823 Highland St, Boston, MA 02215</td>\n",
       "      <td>11:31:00</td>\n",
       "      <td>99.989998</td>\n",
       "      <td>Bose SoundSport Headphones,Bose SoundSport Hea...</td>\n",
       "    </tr>\n",
       "    <tr>\n",
       "      <th>...</th>\n",
       "      <td>...</td>\n",
       "      <td>...</td>\n",
       "      <td>...</td>\n",
       "      <td>...</td>\n",
       "      <td>...</td>\n",
       "      <td>...</td>\n",
       "      <td>...</td>\n",
       "      <td>...</td>\n",
       "      <td>...</td>\n",
       "    </tr>\n",
       "    <tr>\n",
       "      <th>186792</th>\n",
       "      <td>259303</td>\n",
       "      <td>AA Batteries (4-pack)</td>\n",
       "      <td>1.0</td>\n",
       "      <td>3.840000</td>\n",
       "      <td>2019-09-20 20:18:00</td>\n",
       "      <td>106 7th St, Atlanta, GA 30301</td>\n",
       "      <td>20:18:00</td>\n",
       "      <td>3.840000</td>\n",
       "      <td>34in Ultrawide Monitor,AA Batteries (4-pack)</td>\n",
       "    </tr>\n",
       "    <tr>\n",
       "      <th>186803</th>\n",
       "      <td>259314</td>\n",
       "      <td>Wired Headphones</td>\n",
       "      <td>1.0</td>\n",
       "      <td>11.990000</td>\n",
       "      <td>2019-09-16 00:25:00</td>\n",
       "      <td>241 Highland St, Atlanta, GA 30301</td>\n",
       "      <td>00:25:00</td>\n",
       "      <td>11.990000</td>\n",
       "      <td>Wired Headphones,AAA Batteries (4-pack)</td>\n",
       "    </tr>\n",
       "    <tr>\n",
       "      <th>186804</th>\n",
       "      <td>259314</td>\n",
       "      <td>AAA Batteries (4-pack)</td>\n",
       "      <td>2.0</td>\n",
       "      <td>2.990000</td>\n",
       "      <td>2019-09-16 00:25:00</td>\n",
       "      <td>241 Highland St, Atlanta, GA 30301</td>\n",
       "      <td>00:25:00</td>\n",
       "      <td>5.980000</td>\n",
       "      <td>Wired Headphones,AAA Batteries (4-pack)</td>\n",
       "    </tr>\n",
       "    <tr>\n",
       "      <th>186841</th>\n",
       "      <td>259350</td>\n",
       "      <td>Google Phone</td>\n",
       "      <td>1.0</td>\n",
       "      <td>600.000000</td>\n",
       "      <td>2019-09-30 13:49:00</td>\n",
       "      <td>519 Maple St, San Francisco, CA 94016</td>\n",
       "      <td>13:49:00</td>\n",
       "      <td>600.000000</td>\n",
       "      <td>Google Phone,USB-C Charging Cable</td>\n",
       "    </tr>\n",
       "    <tr>\n",
       "      <th>186842</th>\n",
       "      <td>259350</td>\n",
       "      <td>USB-C Charging Cable</td>\n",
       "      <td>1.0</td>\n",
       "      <td>11.950000</td>\n",
       "      <td>2019-09-30 13:49:00</td>\n",
       "      <td>519 Maple St, San Francisco, CA 94016</td>\n",
       "      <td>13:49:00</td>\n",
       "      <td>11.950000</td>\n",
       "      <td>Google Phone,USB-C Charging Cable</td>\n",
       "    </tr>\n",
       "  </tbody>\n",
       "</table>\n",
       "<p>14649 rows × 9 columns</p>\n",
       "</div>"
      ],
      "text/plain": [
       "       Order ID                     Product  Quantity Ordered  Price Each  \\\n",
       "3        176560                Google Phone               1.0  600.000000   \n",
       "4        176560            Wired Headphones               1.0   11.990000   \n",
       "18       176574                Google Phone               1.0  600.000000   \n",
       "19       176574        USB-C Charging Cable               1.0   11.950000   \n",
       "30       176585  Bose SoundSport Headphones               1.0   99.989998   \n",
       "...         ...                         ...               ...         ...   \n",
       "186792   259303       AA Batteries (4-pack)               1.0    3.840000   \n",
       "186803   259314            Wired Headphones               1.0   11.990000   \n",
       "186804   259314      AAA Batteries (4-pack)               2.0    2.990000   \n",
       "186841   259350                Google Phone               1.0  600.000000   \n",
       "186842   259350        USB-C Charging Cable               1.0   11.950000   \n",
       "\n",
       "                Order Date                       Purchase Address      time  \\\n",
       "3      2019-04-12 14:38:00   669 Spruce St, Los Angeles, CA 90001  14:38:00   \n",
       "4      2019-04-12 14:38:00   669 Spruce St, Los Angeles, CA 90001  14:38:00   \n",
       "18     2019-04-03 19:42:00      20 Hill St, Los Angeles, CA 90001  19:42:00   \n",
       "19     2019-04-03 19:42:00      20 Hill St, Los Angeles, CA 90001  19:42:00   \n",
       "30     2019-04-07 11:31:00      823 Highland St, Boston, MA 02215  11:31:00   \n",
       "...                    ...                                    ...       ...   \n",
       "186792 2019-09-20 20:18:00          106 7th St, Atlanta, GA 30301  20:18:00   \n",
       "186803 2019-09-16 00:25:00     241 Highland St, Atlanta, GA 30301  00:25:00   \n",
       "186804 2019-09-16 00:25:00     241 Highland St, Atlanta, GA 30301  00:25:00   \n",
       "186841 2019-09-30 13:49:00  519 Maple St, San Francisco, CA 94016  13:49:00   \n",
       "186842 2019-09-30 13:49:00  519 Maple St, San Francisco, CA 94016  13:49:00   \n",
       "\n",
       "             total                                            grouped  \n",
       "3       600.000000                      Google Phone,Wired Headphones  \n",
       "4        11.990000                      Google Phone,Wired Headphones  \n",
       "18      600.000000                  Google Phone,USB-C Charging Cable  \n",
       "19       11.950000                  Google Phone,USB-C Charging Cable  \n",
       "30       99.989998  Bose SoundSport Headphones,Bose SoundSport Hea...  \n",
       "...            ...                                                ...  \n",
       "186792    3.840000       34in Ultrawide Monitor,AA Batteries (4-pack)  \n",
       "186803   11.990000            Wired Headphones,AAA Batteries (4-pack)  \n",
       "186804    5.980000            Wired Headphones,AAA Batteries (4-pack)  \n",
       "186841  600.000000                  Google Phone,USB-C Charging Cable  \n",
       "186842   11.950000                  Google Phone,USB-C Charging Cable  \n",
       "\n",
       "[14649 rows x 9 columns]"
      ]
     },
     "execution_count": 79,
     "metadata": {},
     "output_type": "execute_result"
    }
   ],
   "source": [
    "df1['grouped']=df1.groupby('Order ID')['Product'].transform(lambda x:','.join(x))\n",
    "df1"
   ]
  },
  {
   "cell_type": "code",
   "execution_count": 82,
   "id": "b131c6a0",
   "metadata": {},
   "outputs": [],
   "source": [
    "df1=df1[[\"Order ID\",\"grouped\"]].drop_duplicates()"
   ]
  },
  {
   "cell_type": "code",
   "execution_count": 81,
   "id": "d08a02ca",
   "metadata": {},
   "outputs": [],
   "source": [
    "from itertools import combinations\n",
    "from collections import Counter"
   ]
  },
  {
   "cell_type": "code",
   "execution_count": 84,
   "id": "d05668cb",
   "metadata": {},
   "outputs": [],
   "source": [
    "count=Counter()\n",
    "for i in df1.grouped:\n",
    "    li=i.split(',')\n",
    "    count.update(Counter(combinations(li,2)))#3 for 3 items group"
   ]
  },
  {
   "cell_type": "code",
   "execution_count": 85,
   "id": "db507146",
   "metadata": {},
   "outputs": [
    {
     "data": {
      "text/plain": [
       "[(('iPhone', 'Lightning Charging Cable'), 1005),\n",
       " (('Google Phone', 'USB-C Charging Cable'), 987),\n",
       " (('iPhone', 'Wired Headphones'), 447),\n",
       " (('Google Phone', 'Wired Headphones'), 414),\n",
       " (('Vareebadd Phone', 'USB-C Charging Cable'), 361),\n",
       " (('iPhone', 'Apple Airpods Headphones'), 360),\n",
       " (('Google Phone', 'Bose SoundSport Headphones'), 220),\n",
       " (('USB-C Charging Cable', 'Wired Headphones'), 160),\n",
       " (('Vareebadd Phone', 'Wired Headphones'), 143),\n",
       " (('Lightning Charging Cable', 'Wired Headphones'), 92)]"
      ]
     },
     "execution_count": 85,
     "metadata": {},
     "output_type": "execute_result"
    }
   ],
   "source": [
    "count.most_common(10)"
   ]
  },
  {
   "cell_type": "markdown",
   "id": "e654d0c7",
   "metadata": {},
   "source": [
    "### what product sold the most?"
   ]
  },
  {
   "cell_type": "code",
   "execution_count": 77,
   "id": "e9cc81d8",
   "metadata": {},
   "outputs": [
    {
     "data": {
      "text/plain": [
       "Product\n",
       "AAA Batteries (4-pack)        31017.0\n",
       "AA Batteries (4-pack)         27635.0\n",
       "USB-C Charging Cable          23975.0\n",
       "Lightning Charging Cable      23217.0\n",
       "Wired Headphones              20557.0\n",
       "Apple Airpods Headphones      15661.0\n",
       "Bose SoundSport Headphones    13457.0\n",
       "27in FHD Monitor               7550.0\n",
       "iPhone                         6849.0\n",
       "27in 4K Gaming Monitor         6244.0\n",
       "34in Ultrawide Monitor         6199.0\n",
       "Google Phone                   5532.0\n",
       "Flatscreen TV                  4819.0\n",
       "Macbook Pro Laptop             4728.0\n",
       "ThinkPad Laptop                4130.0\n",
       "20in Monitor                   4129.0\n",
       "Vareebadd Phone                2068.0\n",
       "LG Washing Machine              666.0\n",
       "LG Dryer                        646.0\n",
       "Name: Quantity Ordered, dtype: float32"
      ]
     },
     "execution_count": 77,
     "metadata": {},
     "output_type": "execute_result"
    }
   ],
   "source": [
    "l=df.groupby('Product')\n",
    "k=l.sum()['Quantity Ordered']\n",
    "k.sort_values(ascending=False)"
   ]
  }
 ],
 "metadata": {
  "kernelspec": {
   "display_name": "Python 3 (ipykernel)",
   "language": "python",
   "name": "python3"
  },
  "language_info": {
   "codemirror_mode": {
    "name": "ipython",
    "version": 3
   },
   "file_extension": ".py",
   "mimetype": "text/x-python",
   "name": "python",
   "nbconvert_exporter": "python",
   "pygments_lexer": "ipython3",
   "version": "3.9.5"
  }
 },
 "nbformat": 4,
 "nbformat_minor": 5
}
